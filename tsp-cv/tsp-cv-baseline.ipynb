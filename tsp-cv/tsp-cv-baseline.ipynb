{
  "cells": [
    {
      "cell_type": "markdown",
      "metadata": {
        "colab_type": "text",
        "id": "view-in-github"
      },
      "source": [
        "<a href=\"https://colab.research.google.com/gist/nazmi/038f6163a558e903227f48e20a47e709/tsp-cv-baseline.ipynb\" target=\"_parent\"><img src=\"https://colab.research.google.com/assets/colab-badge.svg\" alt=\"Open In Colab\"/></a>"
      ]
    },
    {
      "cell_type": "markdown",
      "metadata": {
        "id": "H1vj-5tnqyks"
      },
      "source": [
        "# Imports"
      ]
    },
    {
      "cell_type": "code",
      "execution_count": null,
      "metadata": {
        "ExecuteTime": {
          "end_time": "2022-04-11T21:01:16.847974Z",
          "start_time": "2022-04-11T21:01:12.120393Z"
        },
        "colab": {
          "base_uri": "https://localhost:8080/",
          "height": 86
        },
        "id": "njpmNMZLqykt",
        "outputId": "61e8e91f-22c3-49a0-8a48-13d57b23b88c"
      },
      "outputs": [],
      "source": [
        "import sys\n",
        "import tensorflow as tf\n",
        "import pandas as pd\n",
        "import numpy as np\n",
        "import matplotlib.pyplot as plt\n",
        "import os\n",
        "import zipfile\n",
        "import wandb\n",
        "from wandb.keras import WandbCallback\n",
        "run = wandb.init(project=\"tsp-cv\", save_code=True)"
      ]
    },
    {
      "cell_type": "code",
      "execution_count": null,
      "metadata": {
        "ExecuteTime": {
          "end_time": "2022-04-11T21:01:17.771417Z",
          "start_time": "2022-04-11T21:01:16.848975Z"
        },
        "colab": {
          "base_uri": "https://localhost:8080/"
        },
        "id": "SsbUn-Z_qykw",
        "outputId": "5aa347c8-a64e-4491-af80-46d441cf3178"
      },
      "outputs": [],
      "source": [
        "os.environ[\"TF_CPP_MIN_LOG_LEVEL\"] = \"3\"\n",
        "os.environ['TF_ENABLE_AUTO_MIXED_PRECISION'] = '1'\n",
        "os.environ['TF_GPU_THREAD_MODE'] = 'gpu_private'\n",
        "\n",
        "gpus = tf.config.list_physical_devices('GPU')\n",
        "if gpus:\n",
        "    try:\n",
        "        # Currently, memory growth needs to be the same across GPUs\n",
        "        for gpu in gpus:\n",
        "            tf.config.experimental.set_memory_growth(gpu, True)\n",
        "        logical_gpus = tf.config.experimental.list_logical_devices('GPU')\n",
        "        print(len(gpus), \"Physical GPUs,\", len(logical_gpus), \"Logical GPUs\")\n",
        "    except RuntimeError as e:\n",
        "        # Memory growth must be set before GPUs have been initialized\n",
        "        print(e)\n",
        "\n",
        "print(f\"Tensor Flow Version: {tf.__version__}\")\n",
        "print(f\"Keras Version: {tf.keras.__version__}\")\n",
        "print()\n",
        "print(f\"Python {sys.version}\")\n",
        "print(f\"Pandas {pd.__version__}\")\n",
        "if gpus:\n",
        "    for gpu in gpus:\n",
        "        print(tf.config.experimental.get_device_details(gpu))\n",
        "else:\n",
        "    print(\"GPU is NOT AVAILABLE\")\n",
        "\n"
      ]
    },
    {
      "cell_type": "markdown",
      "metadata": {
        "id": "BUo1dXkjqyky"
      },
      "source": [
        "# Fetch dataset"
      ]
    },
    {
      "cell_type": "code",
      "execution_count": null,
      "metadata": {
        "ExecuteTime": {
          "end_time": "2022-04-11T21:01:18.982932Z",
          "start_time": "2022-04-11T21:01:18.967933Z"
        },
        "id": "AbKpzuFKqykz"
      },
      "outputs": [],
      "source": [
        "PATH = \"dataset/\"\n",
        "PATH_TRAIN =os.path.join(PATH,\"train.csv\")\n",
        "PATH_TEST = os.path.join(PATH,\"test.csv\")\n",
        "\n",
        "if not os.path.exists(PATH):\n",
        "    !kaggle competitions download -c tsp-cv\n",
        "    with zipfile.ZipFile(\"tsp-cv.zip\", 'r') as zip_ref:\n",
        "        zip_ref.extractall(path=PATH)\n",
        "        zip_ref.close()"
      ]
    },
    {
      "cell_type": "code",
      "execution_count": 46,
      "metadata": {
        "ExecuteTime": {
          "end_time": "2022-04-11T21:01:19.030441Z",
          "start_time": "2022-04-11T21:01:18.983933Z"
        },
        "colab": {
          "base_uri": "https://localhost:8080/",
          "height": 206
        },
        "id": "gxDHnzpOqyk0",
        "outputId": "700caf77-cc75-4eb3-bfd1-f14ba035f766"
      },
      "outputs": [
        {
          "data": {
            "text/html": [
              "<div>\n",
              "<style scoped>\n",
              "    .dataframe tbody tr th:only-of-type {\n",
              "        vertical-align: middle;\n",
              "    }\n",
              "\n",
              "    .dataframe tbody tr th {\n",
              "        vertical-align: top;\n",
              "    }\n",
              "\n",
              "    .dataframe thead th {\n",
              "        text-align: right;\n",
              "    }\n",
              "</style>\n",
              "<table border=\"1\" class=\"dataframe\">\n",
              "  <thead>\n",
              "    <tr style=\"text-align: right;\">\n",
              "      <th></th>\n",
              "      <th>id</th>\n",
              "      <th>filename</th>\n",
              "      <th>distance</th>\n",
              "    </tr>\n",
              "  </thead>\n",
              "  <tbody>\n",
              "    <tr>\n",
              "      <th>0</th>\n",
              "      <td>0</td>\n",
              "      <td>0.jpg</td>\n",
              "      <td>83110</td>\n",
              "    </tr>\n",
              "    <tr>\n",
              "      <th>1</th>\n",
              "      <td>1</td>\n",
              "      <td>1.jpg</td>\n",
              "      <td>1035</td>\n",
              "    </tr>\n",
              "    <tr>\n",
              "      <th>2</th>\n",
              "      <td>2</td>\n",
              "      <td>2.jpg</td>\n",
              "      <td>20756</td>\n",
              "    </tr>\n",
              "    <tr>\n",
              "      <th>3</th>\n",
              "      <td>3</td>\n",
              "      <td>3.jpg</td>\n",
              "      <td>13286</td>\n",
              "    </tr>\n",
              "    <tr>\n",
              "      <th>4</th>\n",
              "      <td>4</td>\n",
              "      <td>4.jpg</td>\n",
              "      <td>13924</td>\n",
              "    </tr>\n",
              "  </tbody>\n",
              "</table>\n",
              "</div>"
            ],
            "text/plain": [
              "   id filename  distance\n",
              "0   0    0.jpg     83110\n",
              "1   1    1.jpg      1035\n",
              "2   2    2.jpg     20756\n",
              "3   3    3.jpg     13286\n",
              "4   4    4.jpg     13924"
            ]
          },
          "execution_count": 46,
          "metadata": {},
          "output_type": "execute_result"
        }
      ],
      "source": [
        "train_df = pd.read_csv(PATH_TRAIN)\n",
        "test_df = pd.read_csv(PATH_TEST)\n",
        "train_df.head()"
      ]
    },
    {
      "cell_type": "markdown",
      "metadata": {
        "id": "_Fb6Bp0Lqyk0"
      },
      "source": [
        "## Split dataset"
      ]
    },
    {
      "cell_type": "code",
      "execution_count": null,
      "metadata": {
        "ExecuteTime": {
          "end_time": "2022-04-11T21:01:19.486399Z",
          "start_time": "2022-04-11T21:01:19.031443Z"
        },
        "id": "VOFyhgGXqyk1"
      },
      "outputs": [],
      "source": [
        "from sklearn.model_selection import train_test_split\n",
        "\n",
        "X_train, X_test, y_train, y_test = train_test_split(train_df[\"filename\"].values, train_df[\"distance\"].values,\n",
        "                                                    test_size=0.2, train_size=0.8,\n",
        "                                                    random_state=42)\n"
      ]
    },
    {
      "cell_type": "code",
      "execution_count": null,
      "metadata": {
        "id": "NMw7J-fJqyk1"
      },
      "outputs": [],
      "source": [
        "from sklearn.preprocessing import MinMaxScaler\n",
        "minmax_scaler = MinMaxScaler(feature_range=(0,1000))\n",
        "y_train_scaled = minmax_scaler.fit_transform(y_train.reshape(-1, 1)).squeeze()\n",
        "y_test_scaled = minmax_scaler.transform(y_test.reshape(-1, 1)).squeeze()"
      ]
    },
    {
      "cell_type": "markdown",
      "metadata": {
        "id": "szby0S0Cqyk1"
      },
      "source": [
        "## Visualize dataset"
      ]
    },
    {
      "cell_type": "code",
      "execution_count": 47,
      "metadata": {
        "ExecuteTime": {
          "end_time": "2022-04-11T21:01:19.627080Z",
          "start_time": "2022-04-11T21:01:19.487399Z"
        },
        "colab": {
          "base_uri": "https://localhost:8080/",
          "height": 205
        },
        "id": "AWHBzh2Hqyk2",
        "outputId": "138e9e34-c6b9-4280-d48e-6f5a0e118a03"
      },
      "outputs": [
        {
          "data": {
            "text/plain": [
              "<matplotlib.image.AxesImage at 0x1151b87f790>"
            ]
          },
          "execution_count": 47,
          "metadata": {},
          "output_type": "execute_result"
        },
        {
          "data": {
            "image/png": "[encoded data removed]",
            "text/plain": [
              "<Figure size 432x288 with 1 Axes>"
            ]
          },
          "metadata": {
            "needs_background": "light"
          },
          "output_type": "display_data"
        }
      ],
      "source": [
        "import matplotlib.image as mpimg\n",
        "import random\n",
        "\n",
        "rand = random.randrange(len(X_train))\n",
        "img = mpimg.imread(os.path.join(PATH, X_train[rand]))\n",
        "plt.imshow(img)"
      ]
    },
    {
      "cell_type": "markdown",
      "metadata": {
        "id": "5kJY_MT2qyk2"
      },
      "source": [
        "# Preprocesssing"
      ]
    },
    {
      "cell_type": "markdown",
      "metadata": {
        "id": "n5pOJW6Gqyk2"
      },
      "source": [
        "## tf.data pipeline"
      ]
    },
    {
      "cell_type": "code",
      "execution_count": null,
      "metadata": {
        "ExecuteTime": {
          "end_time": "2022-04-11T21:07:34.645952Z",
          "start_time": "2022-04-11T21:07:34.469234Z"
        },
        "id": "s860lhSbqyk3"
      },
      "outputs": [],
      "source": [
        "from tensorflow.keras import layers, models, callbacks\n",
        "from tensorflow.keras.optimizers import Adam\n",
        "from tensorflow.keras.utils import plot_model\n",
        "\n",
        "tf.random.set_seed(42)\n",
        "IMG_SIZE = 320\n",
        "BATCH_SIZE = 16\n",
        "\n",
        "@tf.function\n",
        "def read_image(image):\n",
        "    with tf.device('/device:GPU:0'):\n",
        "      image = tf.io.read_file(PATH + image)\n",
        "      image = tf.io.decode_jpeg(image, channels=3, dct_method='INTEGER_ACCURATE')\n",
        "      image = tf.image.resize_with_pad(image, IMG_SIZE, IMG_SIZE)\n",
        "      return image\n",
        "\n",
        "\n",
        "def rescale(image):\n",
        "\n",
        "    rescale = tf.keras.Sequential([\n",
        "        layers.Rescaling(scale=1./127.5, offset=-1)\n",
        "    ])\n",
        "\n",
        "    image = rescale(image)\n",
        "\n",
        "    return image\n",
        "\n",
        "\n",
        "def augmentation(image):\n",
        "\n",
        "    augment = tf.keras.Sequential([\n",
        "        layers.RandomFlip()\n",
        "    ])\n",
        "\n",
        "    image = augment(image)\n",
        "\n",
        "    return image\n",
        "\n",
        "\n",
        "def prepare(ds, shuffle=False, repeat=False, cache=False, scale=False, augment=False, batch_size=BATCH_SIZE):\n",
        "\n",
        "    # Applying normalization before `ds.cache()` to re-use it.\n",
        "    # Note: Random transformations (e.g. images augmentations) should be applied\n",
        "    # after both `ds.cache()` (to avoid caching randomness) and `ds.batch()` (for\n",
        "    # vectorization [1]).\n",
        "\n",
        "    if shuffle:\n",
        "        ds = ds.shuffle(buffer_size=1000)\n",
        "\n",
        "    if repeat:\n",
        "        ds = ds.repeat()\n",
        "\n",
        "    ds = ds.map(lambda x, y: (read_image(x), y),\n",
        "                num_parallel_calls=tf.data.AUTOTUNE)\n",
        "    # Batch after shuffling to get unique batches at each epoch.\n",
        "    ds = ds.batch(batch_size, num_parallel_calls=tf.data.AUTOTUNE)\n",
        "    \n",
        "    \n",
        "    if augment:\n",
        "        ds = ds.map(lambda x, y: (augmentation(x), y),\n",
        "                    num_parallel_calls=tf.data.AUTOTUNE)\n",
        "    if scale:\n",
        "        ds = ds.map(lambda x, y: (rescale(x), y),\n",
        "                    num_parallel_calls=tf.data.AUTOTUNE)\n",
        "    if cache:\n",
        "        ds = ds.cache()\n",
        "\n",
        "    return ds.prefetch(buffer_size=tf.data.AUTOTUNE)\n"
      ]
    },
    {
      "cell_type": "code",
      "execution_count": null,
      "metadata": {
        "ExecuteTime": {
          "end_time": "2022-04-11T21:07:40.276181Z",
          "start_time": "2022-04-11T21:07:39.897989Z"
        },
        "id": "URS7-tFLqyk3"
      },
      "outputs": [],
      "source": [
        "train_data = tf.data.Dataset.from_tensor_slices((X_train, y_train))\n",
        "train_data = prepare(train_data, scale=True, shuffle=True,augment=True)\n",
        "\n",
        "valid_data = tf.data.Dataset.from_tensor_slices((X_test, y_test))\n",
        "valid_data = prepare(valid_data, scale=True)\n",
        "\n",
        "train_data_scaled = tf.data.Dataset.from_tensor_slices((X_train, y_train_scaled))\n",
        "train_data_scaled = prepare(train_data_scaled, scale=True, shuffle=True,augment=True,cache=True)\n",
        "\n",
        "valid_data_scaled = tf.data.Dataset.from_tensor_slices((X_test, y_test_scaled))\n",
        "valid_data_scaled = prepare(valid_data_scaled, scale=True,cache=True)"
      ]
    },
    {
      "cell_type": "code",
      "execution_count": null,
      "metadata": {
        "ExecuteTime": {
          "end_time": "2022-04-11T21:07:40.587744Z",
          "start_time": "2022-04-11T21:07:40.277182Z"
        },
        "colab": {
          "base_uri": "https://localhost:8080/",
          "height": 356
        },
        "id": "4XBbJsghqyk3",
        "outputId": "2538a32f-1211-4420-9e27-a310712d4098"
      },
      "outputs": [],
      "source": [
        "for image, label in train_data.take(1):\n",
        "    print(image.shape, label.shape)\n",
        "    print(image.dtype)\n",
        "    print(f\" Min: {tf.reduce_min(image[0])} Max: {tf.reduce_max(image[0])}\")\n",
        "    plt.imshow(tf.cast((image[0]+1)/2,dtype=tf.float32))\n",
        "    print(f\" Distance: {label[0]}\")"
      ]
    },
    {
      "cell_type": "markdown",
      "metadata": {
        "id": "GJCx9dVVqyk4"
      },
      "source": [
        "# Create Model"
      ]
    },
    {
      "cell_type": "code",
      "execution_count": null,
      "metadata": {
        "ExecuteTime": {
          "end_time": "2022-04-11T21:07:40.743238Z",
          "start_time": "2022-04-11T21:07:40.682236Z"
        },
        "id": "C8i9inQgqyk4"
      },
      "outputs": [],
      "source": [
        "from tensorflow.keras.metrics import RootMeanSquaredError\n",
        "\n",
        "input_shape = (IMG_SIZE, IMG_SIZE,3)\n",
        "inputs = layers.Input(shape=input_shape, name=\"input_layer\", dtype=tf.float32)\n",
        "\n",
        "x = layers.Conv2D(32, 3, activation=\"relu\")(inputs)\n",
        "x = layers.Conv2D(64, 3, activation=\"relu\")(x)\n",
        "x = layers.GlobalAveragePooling2D()(x)\n",
        "x = layers.Dense(2048, activation=\"relu\")(x)\n",
        "x = layers.Dense(2048, activation=\"relu\")(x)\n",
        "\n",
        "outputs = layers.Dense(1,activation=\"linear\", name=\"output_layer\",dtype=tf.float32)(x)\n",
        "model = models.Model(inputs, outputs)\n",
        "\n"
      ]
    },
    {
      "cell_type": "code",
      "execution_count": 52,
      "metadata": {
        "ExecuteTime": {
          "end_time": "2022-04-11T21:07:41.349666Z",
          "start_time": "2022-04-11T21:07:40.744238Z"
        },
        "colab": {
          "base_uri": "https://localhost:8080/",
          "height": 976
        },
        "id": "48QE5T1sqyk4",
        "outputId": "53619b71-c818-4845-ec92-e01982a16c8d"
      },
      "outputs": [
        {
          "data": {
            "image/png": "[encoded data removed]",
            "text/plain": [
              "<IPython.core.display.Image object>"
            ]
          },
          "execution_count": 52,
          "metadata": {},
          "output_type": "execute_result"
        }
      ],
      "source": [
        "tf.keras.utils.plot_model(model, show_shapes=True)"
      ]
    },
    {
      "cell_type": "code",
      "execution_count": null,
      "metadata": {
        "ExecuteTime": {
          "end_time": "2022-04-11T21:07:44.213071Z",
          "start_time": "2022-04-11T21:07:41.350667Z"
        },
        "id": "gJnSpLstqyk5"
      },
      "outputs": [],
      "source": [
        "import datetime\n",
        "LEARNING_RATE = 3e-3\n",
        "EPOCHS = 2000\n",
        "\n",
        "\n",
        "stop_callback = callbacks.EarlyStopping(monitor='val_loss', min_delta=1e-4,\n",
        "                                        patience=25, verbose=1, mode='auto',\n",
        "                                        restore_best_weights=True)\n",
        "\n",
        "lr_callback = callbacks.ReduceLROnPlateau(monitor='loss',\n",
        "                                          factor=0.2, min_lr=1e-9, patience=2)\n",
        "\n",
        "log_dir = \"logs/tsp/\" + datetime.datetime.now().strftime(\"%Y%m%d-%H%M%S\")\n",
        "\n",
        "tensorboard_callback = callbacks.TensorBoard(log_dir=log_dir, histogram_freq=1,\n",
        "                                             profile_batch='500,520')\n",
        "\n",
        "model.compile(optimizer=Adam(learning_rate=LEARNING_RATE),\n",
        "              loss=\"mse\",\n",
        "              metrics=[RootMeanSquaredError(name=\"rmse\")])"
      ]
    },
    {
      "cell_type": "code",
      "execution_count": 49,
      "metadata": {},
      "outputs": [
        {
          "data": {
            "text/plain": [
              "<tensorflow.python.training.tracking.util.CheckpointLoadStatus at 0x1157cb9ebe0>"
            ]
          },
          "execution_count": 49,
          "metadata": {},
          "output_type": "execute_result"
        }
      ],
      "source": [
        "model.load_weights(\"checkpoint/baseline/\")"
      ]
    },
    {
      "cell_type": "code",
      "execution_count": null,
      "metadata": {
        "ExecuteTime": {
          "start_time": "2022-04-11T21:07:39.902Z"
        },
        "colab": {
          "base_uri": "https://localhost:8080/"
        },
        "id": "nW8PAgyzqyk5",
        "outputId": "531de581-cc2c-46e9-8730-b6404822e05c"
      },
      "outputs": [],
      "source": [
        "wandb.config = {\n",
        "  \"learning_rate\": LEARNING_RATE,\n",
        "  \"epochs\": EPOCHS\n",
        "}\n",
        "\n",
        "history = (\n",
        "    model.fit(\n",
        "        train_data_scaled,\n",
        "        epochs=EPOCHS,\n",
        "        validation_data=valid_data_scaled,\n",
        "        callbacks=[stop_callback, lr_callback, WandbCallback()]\n",
        "    )\n",
        ")"
      ]
    },
    {
      "cell_type": "code",
      "execution_count": null,
      "metadata": {
        "colab": {
          "base_uri": "https://localhost:8080/",
          "height": 573
        },
        "id": "6Iq--NV5qyk5",
        "outputId": "5fc06936-15b5-419c-b0a6-3be4440d7f0f"
      },
      "outputs": [],
      "source": [
        "def plot_loss_curves(history):\n",
        "    \"\"\"\n",
        "    Returns separate loss curves for training and validation metrics.\n",
        "    Args:\n",
        "      history: TensorFlow model History object (see: https://www.tensorflow.org/api_docs/python/tf/keras/callbacks/History)\n",
        "    \"\"\"\n",
        "    loss = history.history['loss']\n",
        "    val_loss = history.history['val_loss']\n",
        "\n",
        "    accuracy = history.history['rmse']\n",
        "    val_accuracy = history.history['val_rmse']\n",
        "\n",
        "    epochs = range(len(history.history['loss']))\n",
        "\n",
        "    # Plot loss\n",
        "    plt.plot(epochs, loss, label='training_loss')\n",
        "    plt.plot(epochs, val_loss, label='val_loss')\n",
        "    plt.title('Loss')\n",
        "    plt.xlabel('Epochs')\n",
        "    plt.legend()\n",
        "\n",
        "    # Plot accuracy\n",
        "    plt.figure()\n",
        "    plt.plot(epochs, accuracy, label='training_accuracy')\n",
        "    plt.plot(epochs, val_accuracy, label='val_accuracy')\n",
        "    plt.title('Accuracy')\n",
        "    plt.xlabel('Epochs')\n",
        "    plt.legend()\n",
        "\n",
        "    \n",
        "plot_loss_curves(history)"
      ]
    },
    {
      "cell_type": "markdown",
      "metadata": {
        "id": "eXozZzYcqyk6"
      },
      "source": [
        "# Evaluate"
      ]
    },
    {
      "cell_type": "code",
      "execution_count": null,
      "metadata": {
        "id": "K5k3CN7Wqyk6"
      },
      "outputs": [],
      "source": [
        "from sklearn.metrics import mean_absolute_error, mean_squared_error, max_error\n",
        "\n",
        "\n",
        "def calculate_results(y_true, y_pred):\n",
        "    mae = mean_absolute_error(y_true, y_pred)\n",
        "    mse = mean_squared_error(y_true, y_pred)\n",
        "    max_err = max_error(y_true, y_pred)\n",
        "\n",
        "    model_results = {\"Mean Absolute Error\": mae,\n",
        "                     \"Mean Square Error\": mse,\n",
        "                     \"Root Mean Square Error\": np.sqrt(mse),\n",
        "                     \"Max Error\": max_err}\n",
        "\n",
        "    wandb.log({\"valid_mae\": mae,\n",
        "        \"valid_mse\": mse,\n",
        "        \"valid_rmse\": np.sqrt(mse),\n",
        "        \"valid_err\": max_err})\n",
        "\n",
        "    return model_results\n",
        "\n",
        "def calculate_results_scaled(y_true, y_pred):\n",
        "    inv_y_true = minmax_scaler.inverse_transform(y_true.reshape(-1, 1))\n",
        "    inv_y_pred = minmax_scaler.inverse_transform(y_pred.reshape(-1, 1))\n",
        "    model_results = calculate_results(inv_y_true, inv_y_pred)\n",
        "    \n",
        "    return model_results\n"
      ]
    },
    {
      "cell_type": "code",
      "execution_count": 53,
      "metadata": {
        "colab": {
          "base_uri": "https://localhost:8080/"
        },
        "id": "Ydhk9wnIqyk6",
        "outputId": "fc86bbc2-c217-4eaf-bca6-81d40c46e023"
      },
      "outputs": [],
      "source": [
        "model_pred_probs = model.predict(valid_data_scaled)\n",
        "model_results = calculate_results_scaled(y_test_scaled, model_pred_probs)\n"
      ]
    },
    {
      "cell_type": "code",
      "execution_count": 54,
      "metadata": {
        "colab": {
          "base_uri": "https://localhost:8080/"
        },
        "id": "b3bSo2ZRqyk6",
        "outputId": "e543ae23-ecc6-4a8b-90d0-c14aa685b570"
      },
      "outputs": [
        {
          "data": {
            "text/plain": [
              "{'Mean Absolute Error': 178.7817050586181,\n",
              " 'Mean Square Error': 180230.19558356132,\n",
              " 'Root Mean Square Error': 424.5352701290687,\n",
              " 'Max Error': 8884.5859375}"
            ]
          },
          "execution_count": 54,
          "metadata": {},
          "output_type": "execute_result"
        }
      ],
      "source": [
        "model_results"
      ]
    },
    {
      "cell_type": "markdown",
      "metadata": {
        "id": "qnEJVJGNqyk6"
      },
      "source": [
        "# Top 10% Wrong"
      ]
    },
    {
      "cell_type": "code",
      "execution_count": 55,
      "metadata": {
        "colab": {
          "base_uri": "https://localhost:8080/"
        },
        "id": "pHnTFaiZqyk7",
        "outputId": "2811ef17-9406-491f-c455-a0b07ce759ab"
      },
      "outputs": [],
      "source": [
        "inv_y_test = minmax_scaler.inverse_transform(y_test_scaled.reshape(-1, 1)).squeeze()\n",
        "inv_y_pred = minmax_scaler.inverse_transform(model_pred_probs.reshape(-1, 1)).squeeze()\n",
        "error = (inv_y_test - inv_y_pred).squeeze()\n",
        "square_error = np.square(error)\n",
        "\n",
        "validation_df = pd.DataFrame({'true': inv_y_test,\n",
        "                             'pred': inv_y_pred,\n",
        "                             'error': error,\n",
        "                             'square_error': square_error})\n",
        "\n"
      ]
    },
    {
      "cell_type": "code",
      "execution_count": 56,
      "metadata": {
        "colab": {
          "base_uri": "https://localhost:8080/",
          "height": 424
        },
        "id": "ZFIxSdYKqyk7",
        "outputId": "5ac9c99e-67ac-442a-c79e-420079301455"
      },
      "outputs": [
        {
          "data": {
            "text/html": [
              "<div>\n",
              "<style scoped>\n",
              "    .dataframe tbody tr th:only-of-type {\n",
              "        vertical-align: middle;\n",
              "    }\n",
              "\n",
              "    .dataframe tbody tr th {\n",
              "        vertical-align: top;\n",
              "    }\n",
              "\n",
              "    .dataframe thead th {\n",
              "        text-align: right;\n",
              "    }\n",
              "</style>\n",
              "<table border=\"1\" class=\"dataframe\">\n",
              "  <thead>\n",
              "    <tr style=\"text-align: right;\">\n",
              "      <th></th>\n",
              "      <th>true</th>\n",
              "      <th>pred</th>\n",
              "      <th>error</th>\n",
              "      <th>square_error</th>\n",
              "    </tr>\n",
              "  </thead>\n",
              "  <tbody>\n",
              "    <tr>\n",
              "      <th>2143</th>\n",
              "      <td>143577.0</td>\n",
              "      <td>140174.171875</td>\n",
              "      <td>3402.828125</td>\n",
              "      <td>1.157924e+07</td>\n",
              "    </tr>\n",
              "    <tr>\n",
              "      <th>2081</th>\n",
              "      <td>132234.0</td>\n",
              "      <td>129023.101562</td>\n",
              "      <td>3210.898438</td>\n",
              "      <td>1.030987e+07</td>\n",
              "    </tr>\n",
              "    <tr>\n",
              "      <th>2960</th>\n",
              "      <td>112477.0</td>\n",
              "      <td>109358.781250</td>\n",
              "      <td>3118.218750</td>\n",
              "      <td>9.723288e+06</td>\n",
              "    </tr>\n",
              "    <tr>\n",
              "      <th>2298</th>\n",
              "      <td>102932.0</td>\n",
              "      <td>100047.187500</td>\n",
              "      <td>2884.812500</td>\n",
              "      <td>8.322143e+06</td>\n",
              "    </tr>\n",
              "    <tr>\n",
              "      <th>2112</th>\n",
              "      <td>138047.0</td>\n",
              "      <td>135210.640625</td>\n",
              "      <td>2836.359375</td>\n",
              "      <td>8.044935e+06</td>\n",
              "    </tr>\n",
              "    <tr>\n",
              "      <th>...</th>\n",
              "      <td>...</td>\n",
              "      <td>...</td>\n",
              "      <td>...</td>\n",
              "      <td>...</td>\n",
              "    </tr>\n",
              "    <tr>\n",
              "      <th>2795</th>\n",
              "      <td>86306.0</td>\n",
              "      <td>85770.375000</td>\n",
              "      <td>535.625000</td>\n",
              "      <td>2.868941e+05</td>\n",
              "    </tr>\n",
              "    <tr>\n",
              "      <th>1152</th>\n",
              "      <td>19436.0</td>\n",
              "      <td>18902.011719</td>\n",
              "      <td>533.988281</td>\n",
              "      <td>2.851435e+05</td>\n",
              "    </tr>\n",
              "    <tr>\n",
              "      <th>1303</th>\n",
              "      <td>36085.0</td>\n",
              "      <td>35551.671875</td>\n",
              "      <td>533.328125</td>\n",
              "      <td>2.844389e+05</td>\n",
              "    </tr>\n",
              "    <tr>\n",
              "      <th>3104</th>\n",
              "      <td>106622.0</td>\n",
              "      <td>106089.468750</td>\n",
              "      <td>532.531250</td>\n",
              "      <td>2.835895e+05</td>\n",
              "    </tr>\n",
              "    <tr>\n",
              "      <th>649</th>\n",
              "      <td>18419.0</td>\n",
              "      <td>17894.718750</td>\n",
              "      <td>524.281250</td>\n",
              "      <td>2.748708e+05</td>\n",
              "    </tr>\n",
              "  </tbody>\n",
              "</table>\n",
              "<p>100 rows × 4 columns</p>\n",
              "</div>"
            ],
            "text/plain": [
              "          true           pred        error  square_error\n",
              "2143  143577.0  140174.171875  3402.828125  1.157924e+07\n",
              "2081  132234.0  129023.101562  3210.898438  1.030987e+07\n",
              "2960  112477.0  109358.781250  3118.218750  9.723288e+06\n",
              "2298  102932.0  100047.187500  2884.812500  8.322143e+06\n",
              "2112  138047.0  135210.640625  2836.359375  8.044935e+06\n",
              "...        ...            ...          ...           ...\n",
              "2795   86306.0   85770.375000   535.625000  2.868941e+05\n",
              "1152   19436.0   18902.011719   533.988281  2.851435e+05\n",
              "1303   36085.0   35551.671875   533.328125  2.844389e+05\n",
              "3104  106622.0  106089.468750   532.531250  2.835895e+05\n",
              "649    18419.0   17894.718750   524.281250  2.748708e+05\n",
              "\n",
              "[100 rows x 4 columns]"
            ]
          },
          "execution_count": 56,
          "metadata": {},
          "output_type": "execute_result"
        }
      ],
      "source": [
        "top_100_wrong = validation_df.sort_values(\"error\", ascending=False).head(100)\n",
        "top_100_wrong"
      ]
    },
    {
      "cell_type": "markdown",
      "metadata": {
        "id": "Ej3eUlIjqyk7"
      },
      "source": [
        "# Prediction"
      ]
    },
    {
      "cell_type": "code",
      "execution_count": null,
      "metadata": {
        "id": "WqdYcg1Mqyk7"
      },
      "outputs": [],
      "source": [
        "\n",
        "def prepare(ds, shuffle=False, repeat=False, cache=False,scale=False,augment=False):\n",
        "\n",
        "# Applying normalization before `ds.cache()` to re-use it.\n",
        "# Note: Random transformations (e.g. images augmentations) should be applied\n",
        "# after both `ds.cache()` (to avoid caching randomness) and `ds.batch()` (for\n",
        "# vectorization [1]).\n",
        "\n",
        "    ds = ds.map(read_image, num_parallel_calls=tf.data.AUTOTUNE)\n",
        "\n",
        "    if cache:\n",
        "        ds = ds.cache()\n",
        "        \n",
        "    if shuffle:\n",
        "        ds = ds.shuffle(buffer_size=1000)\n",
        "\n",
        "    if repeat:\n",
        "        ds = ds.repeat()\n",
        "\n",
        "    # Batch after shuffling to get unique batches at each epoch.\n",
        "    ds = ds.batch(BATCH_SIZE,num_parallel_calls=tf.data.AUTOTUNE)\n",
        "\n",
        "    if augment:\n",
        "        ds = ds.map(augmentation, num_parallel_calls=tf.data.AUTOTUNE)\n",
        "        \n",
        "    if scale:\n",
        "        ds = ds.map(rescale, num_parallel_calls=tf.data.AUTOTUNE)\n",
        "\n",
        "    return ds.prefetch(buffer_size=tf.data.AUTOTUNE)"
      ]
    },
    {
      "cell_type": "code",
      "execution_count": null,
      "metadata": {
        "ExecuteTime": {
          "start_time": "2022-04-11T21:07:39.903Z"
        },
        "id": "qlaD9eQtqyk8"
      },
      "outputs": [],
      "source": [
        "test_data = tf.data.Dataset.from_tensor_slices(test_df[\"filename\"].values)\n",
        "test_data = prepare(test_data, scale=True)"
      ]
    },
    {
      "cell_type": "code",
      "execution_count": 57,
      "metadata": {
        "ExecuteTime": {
          "start_time": "2022-04-11T21:07:39.904Z"
        },
        "id": "YOO_MkGkqyk8"
      },
      "outputs": [],
      "source": [
        "model_predictions = model.predict(test_data)\n",
        "model_predictions = minmax_scaler.inverse_transform(model_predictions)\n"
      ]
    },
    {
      "cell_type": "code",
      "execution_count": 58,
      "metadata": {
        "colab": {
          "base_uri": "https://localhost:8080/"
        },
        "id": "QxvJDbeOqyk8",
        "outputId": "2c10daaf-eec5-4be2-8494-84c13c471a3d"
      },
      "outputs": [
        {
          "data": {
            "text/plain": [
              "array([[ 8301.726],\n",
              "       [55711.125],\n",
              "       [11562.893],\n",
              "       ...,\n",
              "       [11381.534],\n",
              "       [16238.359],\n",
              "       [12262.215]], dtype=float32)"
            ]
          },
          "execution_count": 58,
          "metadata": {},
          "output_type": "execute_result"
        }
      ],
      "source": [
        "model_predictions"
      ]
    },
    {
      "cell_type": "code",
      "execution_count": 60,
      "metadata": {
        "ExecuteTime": {
          "start_time": "2022-04-11T21:07:39.905Z"
        },
        "id": "ZA7jYKOyqyk8"
      },
      "outputs": [],
      "source": [
        "submission_df = pd.DataFrame({\"id\": test_df[\"id\"], \"distance\": model_predictions.squeeze()})\n",
        "\n",
        "submission_df.to_csv(\"submission-baseline.csv\", index=False)"
      ]
    },
    {
      "cell_type": "code",
      "execution_count": null,
      "metadata": {
        "ExecuteTime": {
          "start_time": "2022-04-11T21:07:39.906Z"
        },
        "colab": {
          "base_uri": "https://localhost:8080/",
          "height": 453,
          "referenced_widgets": [
            "a848aa276ee54adc826b0b9dbc51678b",
            "e44012f2d06c4df4be3c0ef42f17e3ca",
            "b03a89c9c6b34d58b50de978f9adff33",
            "dfc3e38c9f3a4d2f9f1fdc78e2ded146",
            "e37e185a1968408eb8bb27f7b9771681",
            "9b711c45651c4a4eaa59693304dd93ad",
            "bfc3373ff4a1442ab736b592fbf1d68d",
            "ae782d2ede7f4f51a69be9032daac82b"
          ]
        },
        "id": "yAVR7jiDqyk8",
        "outputId": "ec5d1794-3365-4ba7-96b1-367ef44c9f91"
      },
      "outputs": [],
      "source": [
        "wandb.alert(title=\"Finished\", text=f\"Training has finished training\", level=wandb.AlertLevel.INFO)\n",
        "wandb.finish()"
      ]
    }
  ],
  "metadata": {
    "accelerator": "GPU",
    "colab": {
      "collapsed_sections": [
        "BUo1dXkjqyky"
      ],
      "include_colab_link": true,
      "machine_shape": "hm",
      "name": "kaggle_tsp_base_scaled.ipynb",
      "provenance": []
    },
    "interpreter": {
      "hash": "0a38d37dc6a45ce77d3fdf67eee06a9a65b273241b27a8c0a288784bfb7a982d"
    },
    "kernelspec": {
      "display_name": "Python 3.8 (tensorflow)",
      "language": "python",
      "name": "python3"
    },
    "language_info": {
      "codemirror_mode": {
        "name": "ipython",
        "version": 3
      },
      "file_extension": ".py",
      "mimetype": "text/x-python",
      "name": "python",
      "nbconvert_exporter": "python",
      "pygments_lexer": "ipython3",
      "version": "3.9.12"
    },
    "toc": {
      "base_numbering": 1,
      "nav_menu": {},
      "number_sections": true,
      "sideBar": true,
      "skip_h1_title": false,
      "title_cell": "Table of Contents",
      "title_sidebar": "Contents",
      "toc_cell": false,
      "toc_position": {},
      "toc_section_display": true,
      "toc_window_display": false
    },
    "widgets": {
      "application/vnd.jupyter.widget-state+json": {
        "9b711c45651c4a4eaa59693304dd93ad": {
          "model_module": "@jupyter-widgets/controls",
          "model_module_version": "1.5.0",
          "model_name": "DescriptionStyleModel",
          "state": {
            "_model_module": "@jupyter-widgets/controls",
            "_model_module_version": "1.5.0",
            "_model_name": "DescriptionStyleModel",
            "_view_count": null,
            "_view_module": "@jupyter-widgets/base",
            "_view_module_version": "1.2.0",
            "_view_name": "StyleView",
            "description_width": ""
          }
        },
        "a848aa276ee54adc826b0b9dbc51678b": {
          "model_module": "@jupyter-widgets/controls",
          "model_module_version": "1.5.0",
          "model_name": "VBoxModel",
          "state": {
            "_dom_classes": [],
            "_model_module": "@jupyter-widgets/controls",
            "_model_module_version": "1.5.0",
            "_model_name": "VBoxModel",
            "_view_count": null,
            "_view_module": "@jupyter-widgets/controls",
            "_view_module_version": "1.5.0",
            "_view_name": "VBoxView",
            "box_style": "",
            "children": [
              "IPY_MODEL_e44012f2d06c4df4be3c0ef42f17e3ca",
              "IPY_MODEL_b03a89c9c6b34d58b50de978f9adff33"
            ],
            "layout": "IPY_MODEL_dfc3e38c9f3a4d2f9f1fdc78e2ded146"
          }
        },
        "ae782d2ede7f4f51a69be9032daac82b": {
          "model_module": "@jupyter-widgets/controls",
          "model_module_version": "1.5.0",
          "model_name": "ProgressStyleModel",
          "state": {
            "_model_module": "@jupyter-widgets/controls",
            "_model_module_version": "1.5.0",
            "_model_name": "ProgressStyleModel",
            "_view_count": null,
            "_view_module": "@jupyter-widgets/base",
            "_view_module_version": "1.2.0",
            "_view_name": "StyleView",
            "bar_color": null,
            "description_width": ""
          }
        },
        "b03a89c9c6b34d58b50de978f9adff33": {
          "model_module": "@jupyter-widgets/controls",
          "model_module_version": "1.5.0",
          "model_name": "FloatProgressModel",
          "state": {
            "_dom_classes": [],
            "_model_module": "@jupyter-widgets/controls",
            "_model_module_version": "1.5.0",
            "_model_name": "FloatProgressModel",
            "_view_count": null,
            "_view_module": "@jupyter-widgets/controls",
            "_view_module_version": "1.5.0",
            "_view_name": "ProgressView",
            "bar_style": "",
            "description": "",
            "description_tooltip": null,
            "layout": "IPY_MODEL_bfc3373ff4a1442ab736b592fbf1d68d",
            "max": 1,
            "min": 0,
            "orientation": "horizontal",
            "style": "IPY_MODEL_ae782d2ede7f4f51a69be9032daac82b",
            "value": 1
          }
        },
        "bfc3373ff4a1442ab736b592fbf1d68d": {
          "model_module": "@jupyter-widgets/base",
          "model_module_version": "1.2.0",
          "model_name": "LayoutModel",
          "state": {
            "_model_module": "@jupyter-widgets/base",
            "_model_module_version": "1.2.0",
            "_model_name": "LayoutModel",
            "_view_count": null,
            "_view_module": "@jupyter-widgets/base",
            "_view_module_version": "1.2.0",
            "_view_name": "LayoutView",
            "align_content": null,
            "align_items": null,
            "align_self": null,
            "border": null,
            "bottom": null,
            "display": null,
            "flex": null,
            "flex_flow": null,
            "grid_area": null,
            "grid_auto_columns": null,
            "grid_auto_flow": null,
            "grid_auto_rows": null,
            "grid_column": null,
            "grid_gap": null,
            "grid_row": null,
            "grid_template_areas": null,
            "grid_template_columns": null,
            "grid_template_rows": null,
            "height": null,
            "justify_content": null,
            "justify_items": null,
            "left": null,
            "margin": null,
            "max_height": null,
            "max_width": null,
            "min_height": null,
            "min_width": null,
            "object_fit": null,
            "object_position": null,
            "order": null,
            "overflow": null,
            "overflow_x": null,
            "overflow_y": null,
            "padding": null,
            "right": null,
            "top": null,
            "visibility": null,
            "width": null
          }
        },
        "dfc3e38c9f3a4d2f9f1fdc78e2ded146": {
          "model_module": "@jupyter-widgets/base",
          "model_module_version": "1.2.0",
          "model_name": "LayoutModel",
          "state": {
            "_model_module": "@jupyter-widgets/base",
            "_model_module_version": "1.2.0",
            "_model_name": "LayoutModel",
            "_view_count": null,
            "_view_module": "@jupyter-widgets/base",
            "_view_module_version": "1.2.0",
            "_view_name": "LayoutView",
            "align_content": null,
            "align_items": null,
            "align_self": null,
            "border": null,
            "bottom": null,
            "display": null,
            "flex": null,
            "flex_flow": null,
            "grid_area": null,
            "grid_auto_columns": null,
            "grid_auto_flow": null,
            "grid_auto_rows": null,
            "grid_column": null,
            "grid_gap": null,
            "grid_row": null,
            "grid_template_areas": null,
            "grid_template_columns": null,
            "grid_template_rows": null,
            "height": null,
            "justify_content": null,
            "justify_items": null,
            "left": null,
            "margin": null,
            "max_height": null,
            "max_width": null,
            "min_height": null,
            "min_width": null,
            "object_fit": null,
            "object_position": null,
            "order": null,
            "overflow": null,
            "overflow_x": null,
            "overflow_y": null,
            "padding": null,
            "right": null,
            "top": null,
            "visibility": null,
            "width": null
          }
        },
        "e37e185a1968408eb8bb27f7b9771681": {
          "model_module": "@jupyter-widgets/base",
          "model_module_version": "1.2.0",
          "model_name": "LayoutModel",
          "state": {
            "_model_module": "@jupyter-widgets/base",
            "_model_module_version": "1.2.0",
            "_model_name": "LayoutModel",
            "_view_count": null,
            "_view_module": "@jupyter-widgets/base",
            "_view_module_version": "1.2.0",
            "_view_name": "LayoutView",
            "align_content": null,
            "align_items": null,
            "align_self": null,
            "border": null,
            "bottom": null,
            "display": null,
            "flex": null,
            "flex_flow": null,
            "grid_area": null,
            "grid_auto_columns": null,
            "grid_auto_flow": null,
            "grid_auto_rows": null,
            "grid_column": null,
            "grid_gap": null,
            "grid_row": null,
            "grid_template_areas": null,
            "grid_template_columns": null,
            "grid_template_rows": null,
            "height": null,
            "justify_content": null,
            "justify_items": null,
            "left": null,
            "margin": null,
            "max_height": null,
            "max_width": null,
            "min_height": null,
            "min_width": null,
            "object_fit": null,
            "object_position": null,
            "order": null,
            "overflow": null,
            "overflow_x": null,
            "overflow_y": null,
            "padding": null,
            "right": null,
            "top": null,
            "visibility": null,
            "width": null
          }
        },
        "e44012f2d06c4df4be3c0ef42f17e3ca": {
          "model_module": "@jupyter-widgets/controls",
          "model_module_version": "1.5.0",
          "model_name": "LabelModel",
          "state": {
            "_dom_classes": [],
            "_model_module": "@jupyter-widgets/controls",
            "_model_module_version": "1.5.0",
            "_model_name": "LabelModel",
            "_view_count": null,
            "_view_module": "@jupyter-widgets/controls",
            "_view_module_version": "1.5.0",
            "_view_name": "LabelView",
            "description": "",
            "description_tooltip": null,
            "layout": "IPY_MODEL_e37e185a1968408eb8bb27f7b9771681",
            "placeholder": "​",
            "style": "IPY_MODEL_9b711c45651c4a4eaa59693304dd93ad",
            "value": "9.568 MB of 9.568 MB uploaded (0.000 MB deduped)\r"
          }
        }
      }
    }
  },
  "nbformat": 4,
  "nbformat_minor": 0
}
